{
 "cells": [
  {
   "cell_type": "code",
   "execution_count": 1,
   "metadata": {},
   "outputs": [],
   "source": [
    "#Importing libraries\n",
    "import pandas as pd\n",
    "import matplotlib.pyplot as plt\n",
    "import seaborn as sns\n",
    "import numpy as np"
   ]
  },
  {
   "cell_type": "code",
   "execution_count": 2,
   "metadata": {},
   "outputs": [],
   "source": [
    "#Importing Dataframe from the 2017.2 semester\n",
    "grades20172 = pd.read_csv('http://dados.ufrn.br/dataset/c8650d55-3c5a-4787-a126-d28a4ef902a6/resource/55dfe713-ff7c-4fa8-8d1d-d4294a025bff/download/matricula-componente-20172', sep=';')"
   ]
  },
  {
   "cell_type": "code",
   "execution_count": 3,
   "metadata": {},
   "outputs": [],
   "source": [
    "#Filtering data to get only the valid enrollments\n",
    "grades20172 = grades20172.drop(grades20172[grades20172.descricao == 'DESISTENCIA'].index)\n",
    "grades20172 = grades20172.drop(grades20172[grades20172.descricao == 'CANCELADO'].index)"
   ]
  },
  {
   "cell_type": "code",
   "execution_count": 4,
   "metadata": {},
   "outputs": [],
   "source": [
    "#Removing columns that are not used\n",
    "grades20172 = grades20172.drop(['unidade', 'nota', 'reposicao', 'faltas_unidade', 'numero_total_faltas', 'descricao'], 1)"
   ]
  },
  {
   "cell_type": "code",
   "execution_count": 5,
   "metadata": {},
   "outputs": [],
   "source": [
    "#Removing missing values\n",
    "grades20172.dropna(inplace=True)"
   ]
  },
  {
   "cell_type": "code",
   "execution_count": 6,
   "metadata": {},
   "outputs": [],
   "source": [
    "#Each student is shown 3 times for each enrollment, but the final grade is the same for all the 3, so we are filtering that\n",
    "grades20172 = grades20172.drop_duplicates(subset = ['id_turma','discente'])"
   ]
  },
  {
   "cell_type": "code",
   "execution_count": 7,
   "metadata": {},
   "outputs": [],
   "source": [
    "#We can now remove the column 'id_turma' from the dataframe\n",
    "grades20172 = grades20172.drop('id_turma', 1)"
   ]
  },
  {
   "cell_type": "code",
   "execution_count": 8,
   "metadata": {},
   "outputs": [],
   "source": [
    "#We are storing the number of enrollments for each student\n",
    "enrollments20172 = grades20172.discente.value_counts()"
   ]
  },
  {
   "cell_type": "code",
   "execution_count": 9,
   "metadata": {},
   "outputs": [],
   "source": [
    "#Now the number of enrollments is being stored in the column 'num_matriculas'\n",
    "def which_class(row):\n",
    "    return enrollments20172[row.discente]\n",
    "grades20172['num_matriculas'] = grades20172.apply(which_class, axis=1)"
   ]
  },
  {
   "cell_type": "code",
   "execution_count": 10,
   "metadata": {},
   "outputs": [],
   "source": [
    "#Now we stored the mean of all the final grades for each student\n",
    "meangrades20172 = grades20172.pivot_table(index=\"discente\", values=\"media_final\", aggfunc=np.mean)"
   ]
  },
  {
   "cell_type": "code",
   "execution_count": null,
   "metadata": {},
   "outputs": [],
   "source": [
    "#The 'media_final' column's values will no more be used\n",
    "grades20172 = grades20172.drop('media_final', 1)"
   ]
  },
  {
   "cell_type": "code",
   "execution_count": null,
   "metadata": {
    "scrolled": true
   },
   "outputs": [],
   "source": [
    "#Now we store the mean of all final grades by student in the new column 'media_final'\n",
    "def store_values(row):\n",
    "    return meangrades20172.get_value(row.discente, 'media_final')\n",
    "grades20172['media_final'] = grades20172.apply(store_values, axis=1)"
   ]
  },
  {
   "cell_type": "code",
   "execution_count": null,
   "metadata": {},
   "outputs": [],
   "source": [
    "#Now we remove the duplicates based on the student id, letting just the mean of all final grades by each student\n",
    "grades20172 = grades20172.drop_duplicates(subset = ['discente'])"
   ]
  },
  {
   "cell_type": "code",
   "execution_count": null,
   "metadata": {},
   "outputs": [],
   "source": [
    "#Now that we have the mean of students final grades, we can finally use it to calcule the mean of grades by course\n",
    "grades_by_course20172 = grades20172.pivot_table(index = ['id_curso', 'num_matriculas'], values = 'media_final', aggfunc=np.mean)"
   ]
  },
  {
   "cell_type": "code",
   "execution_count": null,
   "metadata": {},
   "outputs": [],
   "source": [
    "#Now we store the id of each course, for use it in the analysis\n",
    "ti_id = 92127264.0\n",
    "cb_id = 111635035.0\n",
    "cet_id = 10320810.0\n",
    "hist_id = 111635060.0"
   ]
  },
  {
   "cell_type": "code",
   "execution_count": null,
   "metadata": {},
   "outputs": [],
   "source": [
    "#Now we have to store the grades for each course\n",
    "ti_grades_20172 = []\n",
    "cb_grades_20172 = []\n",
    "cet_grades_20172 = []\n",
    "hist_grades_20172 = []\n",
    "#Here we are storing the mean of the courses final grades by number of enrollments\n",
    "for x in range(1, 8):\n",
    "    ti_grades_20172.append(grades_by_course20172.media_final[ti_id][x])\n",
    "    cb_grades_20172.append(grades_by_course20172.media_final[cb_id][x])\n",
    "    cet_grades_20172.append(grades_by_course20172.media_final[cet_id][x])\n",
    "    hist_grades_20172.append(grades_by_course20172.media_final[hist_id][x])"
   ]
  },
  {
   "cell_type": "code",
   "execution_count": null,
   "metadata": {},
   "outputs": [],
   "source": [
    "plt.plot(range(1,8),ti_grades_20172)\n",
    "plt.plot(range(1,8),cb_grades_20172)\n",
    "plt.plot(range(1,8),cet_grades_20172)\n",
    "plt.plot(range(1,8),hist_grades_20172)"
   ]
  }
 ],
 "metadata": {
  "kernelspec": {
   "display_name": "Python 3",
   "language": "python",
   "name": "python3"
  },
  "language_info": {
   "codemirror_mode": {
    "name": "ipython",
    "version": 3
   },
   "file_extension": ".py",
   "mimetype": "text/x-python",
   "name": "python",
   "nbconvert_exporter": "python",
   "pygments_lexer": "ipython3",
   "version": "3.6.4"
  }
 },
 "nbformat": 4,
 "nbformat_minor": 2
}
