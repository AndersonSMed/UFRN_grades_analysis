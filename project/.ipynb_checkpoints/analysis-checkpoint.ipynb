{
 "cells": [
  {
   "cell_type": "markdown",
   "metadata": {},
   "source": [
    "### **Analysis of how the number of enrollments affect the UFRN students overall performance**"
   ]
  },
  {
   "cell_type": "markdown",
   "metadata": {},
   "source": [
    "Project made by:\n",
    "- Anderson Santos de Medeiros\n",
    "- André Luiz de Lucena Moreira\n",
    "- Paulo Torres Aragão Neto"
   ]
  },
  {
   "cell_type": "markdown",
   "metadata": {},
   "source": [
    "In this project, we are going to analysis how the number of enrollments affect the students overall performance, making a comparision between some of the UFRN courses. This study was made using the open dataframes found in http://dados.ufrn.br/dataset/matriculas-componentes, which contains data from 2 years of enrollments made by the UFRN students. To do such analysis, we used only valid enrollments, in other words, the enrollments where the student doesn't gave up from in the middle of semester."
   ]
  },
  {
   "cell_type": "markdown",
   "metadata": {},
   "source": [
    "First of all, let's import the libraries required to analyse the data."
   ]
  },
  {
   "cell_type": "code",
   "execution_count": 132,
   "metadata": {},
   "outputs": [],
   "source": [
    "#Importing libraries\n",
    "import pandas as pd\n",
    "import matplotlib.pyplot as plt\n",
    "import seaborn as sns\n",
    "import numpy as np"
   ]
  },
  {
   "cell_type": "markdown",
   "metadata": {},
   "source": [
    "Now we must load all the dataframes from the 2 years of information, therefore, we must take the data from the semesters of 2016.1, 2016.2, 2017.1 and 2017.2."
   ]
  },
  {
   "cell_type": "code",
   "execution_count": 133,
   "metadata": {},
   "outputs": [],
   "source": [
    "#Loading dataframes from all the 4 semesters\n",
    "grades20161 = pd.read_csv('http://dados.ufrn.br/dataset/c8650d55-3c5a-4787-a126-d28a4ef902a6/resource/4778d3ce-8898-46a8-a623-ee6a480a2980/download/matriculas-de-2016.1.csv', sep=';')\n",
    "grades20162 = pd.read_csv('http://dados.ufrn.br/dataset/c8650d55-3c5a-4787-a126-d28a4ef902a6/resource/f6179838-b619-4d7d-af9c-18c438b80dd4/download/matriculas-de-2016.2.csv', sep=';')\n",
    "grades20171 = pd.read_csv('http://dados.ufrn.br/dataset/c8650d55-3c5a-4787-a126-d28a4ef902a6/resource/79071c21-e32c-438f-b930-d1b6ccc02ec2/download/matricula-componente-20171', sep=';')\n",
    "grades20172 = pd.read_csv('http://dados.ufrn.br/dataset/c8650d55-3c5a-4787-a126-d28a4ef902a6/resource/55dfe713-ff7c-4fa8-8d1d-d4294a025bff/download/matricula-componente-20172', sep=';')"
   ]
  },
  {
   "cell_type": "markdown",
   "metadata": {},
   "source": [
    "The dataframes are structured as follows:"
   ]
  },
  {
   "cell_type": "code",
   "execution_count": 134,
   "metadata": {},
   "outputs": [
    {
     "data": {
      "text/html": [
       "<div>\n",
       "<style scoped>\n",
       "    .dataframe tbody tr th:only-of-type {\n",
       "        vertical-align: middle;\n",
       "    }\n",
       "\n",
       "    .dataframe tbody tr th {\n",
       "        vertical-align: top;\n",
       "    }\n",
       "\n",
       "    .dataframe thead th {\n",
       "        text-align: right;\n",
       "    }\n",
       "</style>\n",
       "<table border=\"1\" class=\"dataframe\">\n",
       "  <thead>\n",
       "    <tr style=\"text-align: right;\">\n",
       "      <th></th>\n",
       "      <th>id_turma</th>\n",
       "      <th>discente</th>\n",
       "      <th>id_curso</th>\n",
       "      <th>unidade</th>\n",
       "      <th>nota</th>\n",
       "      <th>reposicao</th>\n",
       "      <th>faltas_unidade</th>\n",
       "      <th>media_final</th>\n",
       "      <th>numero_total_faltas</th>\n",
       "      <th>descricao</th>\n",
       "      <th>Unnamed: 10</th>\n",
       "    </tr>\n",
       "  </thead>\n",
       "  <tbody>\n",
       "    <tr>\n",
       "      <th>0</th>\n",
       "      <td>57594062</td>\n",
       "      <td>069fb15661686bbc75f8c46af09b29ab</td>\n",
       "      <td>115439980.0</td>\n",
       "      <td>1.0</td>\n",
       "      <td>10.0</td>\n",
       "      <td>f</td>\n",
       "      <td>0.0</td>\n",
       "      <td>9.0</td>\n",
       "      <td>0.0</td>\n",
       "      <td>APROVADO</td>\n",
       "      <td>NaN</td>\n",
       "    </tr>\n",
       "    <tr>\n",
       "      <th>1</th>\n",
       "      <td>57594062</td>\n",
       "      <td>069fb15661686bbc75f8c46af09b29ab</td>\n",
       "      <td>115439980.0</td>\n",
       "      <td>2.0</td>\n",
       "      <td>7.0</td>\n",
       "      <td>f</td>\n",
       "      <td>0.0</td>\n",
       "      <td>9.0</td>\n",
       "      <td>0.0</td>\n",
       "      <td>APROVADO</td>\n",
       "      <td>NaN</td>\n",
       "    </tr>\n",
       "    <tr>\n",
       "      <th>2</th>\n",
       "      <td>57594062</td>\n",
       "      <td>1f266264613dc5fe158a5bb1b1d4c67f</td>\n",
       "      <td>115439980.0</td>\n",
       "      <td>1.0</td>\n",
       "      <td>0.0</td>\n",
       "      <td>f</td>\n",
       "      <td>0.0</td>\n",
       "      <td>0.0</td>\n",
       "      <td>0.0</td>\n",
       "      <td>REPROVADO</td>\n",
       "      <td>NaN</td>\n",
       "    </tr>\n",
       "    <tr>\n",
       "      <th>3</th>\n",
       "      <td>57594062</td>\n",
       "      <td>1f266264613dc5fe158a5bb1b1d4c67f</td>\n",
       "      <td>115439980.0</td>\n",
       "      <td>2.0</td>\n",
       "      <td>0.0</td>\n",
       "      <td>f</td>\n",
       "      <td>0.0</td>\n",
       "      <td>0.0</td>\n",
       "      <td>0.0</td>\n",
       "      <td>REPROVADO</td>\n",
       "      <td>NaN</td>\n",
       "    </tr>\n",
       "    <tr>\n",
       "      <th>4</th>\n",
       "      <td>57594062</td>\n",
       "      <td>1f266264613dc5fe158a5bb1b1d4c67f</td>\n",
       "      <td>115439980.0</td>\n",
       "      <td>3.0</td>\n",
       "      <td>0.0</td>\n",
       "      <td>f</td>\n",
       "      <td>0.0</td>\n",
       "      <td>0.0</td>\n",
       "      <td>0.0</td>\n",
       "      <td>REPROVADO</td>\n",
       "      <td>NaN</td>\n",
       "    </tr>\n",
       "  </tbody>\n",
       "</table>\n",
       "</div>"
      ],
      "text/plain": [
       "   id_turma                          discente     id_curso  unidade  nota  \\\n",
       "0  57594062  069fb15661686bbc75f8c46af09b29ab  115439980.0      1.0  10.0   \n",
       "1  57594062  069fb15661686bbc75f8c46af09b29ab  115439980.0      2.0   7.0   \n",
       "2  57594062  1f266264613dc5fe158a5bb1b1d4c67f  115439980.0      1.0   0.0   \n",
       "3  57594062  1f266264613dc5fe158a5bb1b1d4c67f  115439980.0      2.0   0.0   \n",
       "4  57594062  1f266264613dc5fe158a5bb1b1d4c67f  115439980.0      3.0   0.0   \n",
       "\n",
       "  reposicao  faltas_unidade  media_final  numero_total_faltas  descricao  \\\n",
       "0         f             0.0          9.0                  0.0   APROVADO   \n",
       "1         f             0.0          9.0                  0.0   APROVADO   \n",
       "2         f             0.0          0.0                  0.0  REPROVADO   \n",
       "3         f             0.0          0.0                  0.0  REPROVADO   \n",
       "4         f             0.0          0.0                  0.0  REPROVADO   \n",
       "\n",
       "   Unnamed: 10  \n",
       "0          NaN  \n",
       "1          NaN  \n",
       "2          NaN  \n",
       "3          NaN  \n",
       "4          NaN  "
      ]
     },
     "execution_count": 134,
     "metadata": {},
     "output_type": "execute_result"
    }
   ],
   "source": [
    "#Showing the structure of the dataframe\n",
    "grades20161.head()"
   ]
  },
  {
   "cell_type": "markdown",
   "metadata": {},
   "source": [
    "Now, some of the dataframes has a undefined and strange column, so we must remove it."
   ]
  },
  {
   "cell_type": "code",
   "execution_count": 135,
   "metadata": {},
   "outputs": [],
   "source": [
    "#Removing a undefined column from the 2016.1 and 2016.2 dataframes\n",
    "grades20161 = grades20161.drop('Unnamed: 10',1)\n",
    "grades20162 = grades20162.drop('Unnamed: 10',1)"
   ]
  },
  {
   "cell_type": "markdown",
   "metadata": {},
   "source": [
    "We must filter the data to use only the valid enrollments in the analysis, so, to do it, a function was defined to clean all of the invalid enrollments."
   ]
  },
  {
   "cell_type": "code",
   "execution_count": 136,
   "metadata": {},
   "outputs": [],
   "source": [
    "#Function for filtering data to get only the valid enrollments\n",
    "def filter_columns(df):\n",
    "    df = df.drop(df[df.descricao == 'DESISTENCIA'].index)\n",
    "    df = df.drop(df[df.descricao == 'CANCELADO'].index)\n",
    "    df = df.drop(df[df.descricao == 'INDEFERIDO'].index)\n",
    "    df = df.drop(df[df.descricao == 'REPROVADO POR MÉDIA E POR FALTAS'].index)\n",
    "    df = df.drop(df[df.descricao == 'CANCELADO'].index)\n",
    "    df = df.drop(df[df.descricao == 'EXCLUIDA'].index)\n",
    "    df = df.drop(df[df.descricao == 'TRANCADO'].index)\n",
    "    df = df.drop(df[df.descricao == 'AGUARDANDO DEFERIMENTO'].index)\n",
    "    df = df.drop(df[df.descricao == 'REPROVADO POR NOTA E FALTA'].index)\n",
    "    df = df.drop(df[df.descricao == 'CUMPRIU'].index)\n",
    "    df = df.drop(df[df.descricao == 'DISPENSADO'].index)\n",
    "    df = df.drop(df[df.descricao == 'TRANSFERIDO'].index)\n",
    "    df = df.drop(df[df.descricao == 'INCORPORADO'].index)\n",
    "    return df"
   ]
  },
  {
   "cell_type": "markdown",
   "metadata": {},
   "source": [
    "The next step is call the function declared above for each one of the semesters in order to filter them."
   ]
  },
  {
   "cell_type": "code",
   "execution_count": 137,
   "metadata": {},
   "outputs": [],
   "source": [
    "#Filtering data to get only the valid enrollments from 2016.1\n",
    "grades20161 = filter_columns(grades20161)"
   ]
  },
  {
   "cell_type": "code",
   "execution_count": 138,
   "metadata": {},
   "outputs": [],
   "source": [
    "#Filtering data to get only the valid enrollments from 2016.2\n",
    "grades20162 = filter_columns(grades20162)"
   ]
  },
  {
   "cell_type": "code",
   "execution_count": 139,
   "metadata": {},
   "outputs": [],
   "source": [
    "#Filtering data to get only the valid enrollments from 2017.1\n",
    "grades20171 = filter_columns(grades20171)"
   ]
  },
  {
   "cell_type": "code",
   "execution_count": 140,
   "metadata": {},
   "outputs": [],
   "source": [
    "#Filtering data to get only the valid enrollments from 2017.2\n",
    "grades20172 = filter_columns(grades20172)"
   ]
  },
  {
   "cell_type": "markdown",
   "metadata": {},
   "source": [
    "After this filters, our dataframe must have this format:"
   ]
  },
  {
   "cell_type": "code",
   "execution_count": 141,
   "metadata": {},
   "outputs": [
    {
     "data": {
      "text/html": [
       "<div>\n",
       "<style scoped>\n",
       "    .dataframe tbody tr th:only-of-type {\n",
       "        vertical-align: middle;\n",
       "    }\n",
       "\n",
       "    .dataframe tbody tr th {\n",
       "        vertical-align: top;\n",
       "    }\n",
       "\n",
       "    .dataframe thead th {\n",
       "        text-align: right;\n",
       "    }\n",
       "</style>\n",
       "<table border=\"1\" class=\"dataframe\">\n",
       "  <thead>\n",
       "    <tr style=\"text-align: right;\">\n",
       "      <th></th>\n",
       "      <th>id_turma</th>\n",
       "      <th>discente</th>\n",
       "      <th>id_curso</th>\n",
       "      <th>unidade</th>\n",
       "      <th>nota</th>\n",
       "      <th>reposicao</th>\n",
       "      <th>faltas_unidade</th>\n",
       "      <th>media_final</th>\n",
       "      <th>numero_total_faltas</th>\n",
       "      <th>descricao</th>\n",
       "    </tr>\n",
       "  </thead>\n",
       "  <tbody>\n",
       "    <tr>\n",
       "      <th>0</th>\n",
       "      <td>57594062</td>\n",
       "      <td>069fb15661686bbc75f8c46af09b29ab</td>\n",
       "      <td>115439980.0</td>\n",
       "      <td>1.0</td>\n",
       "      <td>10.0</td>\n",
       "      <td>f</td>\n",
       "      <td>0.0</td>\n",
       "      <td>9.0</td>\n",
       "      <td>0.0</td>\n",
       "      <td>APROVADO</td>\n",
       "    </tr>\n",
       "    <tr>\n",
       "      <th>1</th>\n",
       "      <td>57594062</td>\n",
       "      <td>069fb15661686bbc75f8c46af09b29ab</td>\n",
       "      <td>115439980.0</td>\n",
       "      <td>2.0</td>\n",
       "      <td>7.0</td>\n",
       "      <td>f</td>\n",
       "      <td>0.0</td>\n",
       "      <td>9.0</td>\n",
       "      <td>0.0</td>\n",
       "      <td>APROVADO</td>\n",
       "    </tr>\n",
       "    <tr>\n",
       "      <th>2</th>\n",
       "      <td>57594062</td>\n",
       "      <td>1f266264613dc5fe158a5bb1b1d4c67f</td>\n",
       "      <td>115439980.0</td>\n",
       "      <td>1.0</td>\n",
       "      <td>0.0</td>\n",
       "      <td>f</td>\n",
       "      <td>0.0</td>\n",
       "      <td>0.0</td>\n",
       "      <td>0.0</td>\n",
       "      <td>REPROVADO</td>\n",
       "    </tr>\n",
       "    <tr>\n",
       "      <th>3</th>\n",
       "      <td>57594062</td>\n",
       "      <td>1f266264613dc5fe158a5bb1b1d4c67f</td>\n",
       "      <td>115439980.0</td>\n",
       "      <td>2.0</td>\n",
       "      <td>0.0</td>\n",
       "      <td>f</td>\n",
       "      <td>0.0</td>\n",
       "      <td>0.0</td>\n",
       "      <td>0.0</td>\n",
       "      <td>REPROVADO</td>\n",
       "    </tr>\n",
       "    <tr>\n",
       "      <th>4</th>\n",
       "      <td>57594062</td>\n",
       "      <td>1f266264613dc5fe158a5bb1b1d4c67f</td>\n",
       "      <td>115439980.0</td>\n",
       "      <td>3.0</td>\n",
       "      <td>0.0</td>\n",
       "      <td>f</td>\n",
       "      <td>0.0</td>\n",
       "      <td>0.0</td>\n",
       "      <td>0.0</td>\n",
       "      <td>REPROVADO</td>\n",
       "    </tr>\n",
       "  </tbody>\n",
       "</table>\n",
       "</div>"
      ],
      "text/plain": [
       "   id_turma                          discente     id_curso  unidade  nota  \\\n",
       "0  57594062  069fb15661686bbc75f8c46af09b29ab  115439980.0      1.0  10.0   \n",
       "1  57594062  069fb15661686bbc75f8c46af09b29ab  115439980.0      2.0   7.0   \n",
       "2  57594062  1f266264613dc5fe158a5bb1b1d4c67f  115439980.0      1.0   0.0   \n",
       "3  57594062  1f266264613dc5fe158a5bb1b1d4c67f  115439980.0      2.0   0.0   \n",
       "4  57594062  1f266264613dc5fe158a5bb1b1d4c67f  115439980.0      3.0   0.0   \n",
       "\n",
       "  reposicao  faltas_unidade  media_final  numero_total_faltas  descricao  \n",
       "0         f             0.0          9.0                  0.0   APROVADO  \n",
       "1         f             0.0          9.0                  0.0   APROVADO  \n",
       "2         f             0.0          0.0                  0.0  REPROVADO  \n",
       "3         f             0.0          0.0                  0.0  REPROVADO  \n",
       "4         f             0.0          0.0                  0.0  REPROVADO  "
      ]
     },
     "execution_count": 141,
     "metadata": {},
     "output_type": "execute_result"
    }
   ],
   "source": [
    "grades20161.head()"
   ]
  },
  {
   "cell_type": "markdown",
   "metadata": {},
   "source": [
    "Now, some of the columns will no more be useful in our analysis, so we must remove it from the dataframes, to do so, we created a function."
   ]
  },
  {
   "cell_type": "code",
   "execution_count": 142,
   "metadata": {},
   "outputs": [],
   "source": [
    "#Function to remove columns that are not used\n",
    "def remove_columns(df):\n",
    "    df = df.drop(['unidade', 'nota', 'reposicao', 'faltas_unidade', 'numero_total_faltas', 'descricao'], 1)\n",
    "    return df"
   ]
  },
  {
   "cell_type": "markdown",
   "metadata": {},
   "source": [
    "Now we must apply the removing function in all the 4 semester dataframes, in order to clear all the useless columns from them."
   ]
  },
  {
   "cell_type": "code",
   "execution_count": 143,
   "metadata": {},
   "outputs": [],
   "source": [
    "#Removing columns that are not used\n",
    "grades20161 = remove_columns(grades20161)\n",
    "grades20162 = remove_columns(grades20162)\n",
    "grades20171 = remove_columns(grades20171)\n",
    "grades20172 = remove_columns(grades20172)"
   ]
  },
  {
   "cell_type": "markdown",
   "metadata": {},
   "source": [
    "Now our dataframe must have this format:"
   ]
  },
  {
   "cell_type": "code",
   "execution_count": 144,
   "metadata": {},
   "outputs": [
    {
     "data": {
      "text/html": [
       "<div>\n",
       "<style scoped>\n",
       "    .dataframe tbody tr th:only-of-type {\n",
       "        vertical-align: middle;\n",
       "    }\n",
       "\n",
       "    .dataframe tbody tr th {\n",
       "        vertical-align: top;\n",
       "    }\n",
       "\n",
       "    .dataframe thead th {\n",
       "        text-align: right;\n",
       "    }\n",
       "</style>\n",
       "<table border=\"1\" class=\"dataframe\">\n",
       "  <thead>\n",
       "    <tr style=\"text-align: right;\">\n",
       "      <th></th>\n",
       "      <th>id_turma</th>\n",
       "      <th>discente</th>\n",
       "      <th>id_curso</th>\n",
       "      <th>media_final</th>\n",
       "    </tr>\n",
       "  </thead>\n",
       "  <tbody>\n",
       "    <tr>\n",
       "      <th>0</th>\n",
       "      <td>57594062</td>\n",
       "      <td>069fb15661686bbc75f8c46af09b29ab</td>\n",
       "      <td>115439980.0</td>\n",
       "      <td>9.0</td>\n",
       "    </tr>\n",
       "    <tr>\n",
       "      <th>1</th>\n",
       "      <td>57594062</td>\n",
       "      <td>069fb15661686bbc75f8c46af09b29ab</td>\n",
       "      <td>115439980.0</td>\n",
       "      <td>9.0</td>\n",
       "    </tr>\n",
       "    <tr>\n",
       "      <th>2</th>\n",
       "      <td>57594062</td>\n",
       "      <td>1f266264613dc5fe158a5bb1b1d4c67f</td>\n",
       "      <td>115439980.0</td>\n",
       "      <td>0.0</td>\n",
       "    </tr>\n",
       "    <tr>\n",
       "      <th>3</th>\n",
       "      <td>57594062</td>\n",
       "      <td>1f266264613dc5fe158a5bb1b1d4c67f</td>\n",
       "      <td>115439980.0</td>\n",
       "      <td>0.0</td>\n",
       "    </tr>\n",
       "    <tr>\n",
       "      <th>4</th>\n",
       "      <td>57594062</td>\n",
       "      <td>1f266264613dc5fe158a5bb1b1d4c67f</td>\n",
       "      <td>115439980.0</td>\n",
       "      <td>0.0</td>\n",
       "    </tr>\n",
       "  </tbody>\n",
       "</table>\n",
       "</div>"
      ],
      "text/plain": [
       "   id_turma                          discente     id_curso  media_final\n",
       "0  57594062  069fb15661686bbc75f8c46af09b29ab  115439980.0          9.0\n",
       "1  57594062  069fb15661686bbc75f8c46af09b29ab  115439980.0          9.0\n",
       "2  57594062  1f266264613dc5fe158a5bb1b1d4c67f  115439980.0          0.0\n",
       "3  57594062  1f266264613dc5fe158a5bb1b1d4c67f  115439980.0          0.0\n",
       "4  57594062  1f266264613dc5fe158a5bb1b1d4c67f  115439980.0          0.0"
      ]
     },
     "execution_count": 144,
     "metadata": {},
     "output_type": "execute_result"
    }
   ],
   "source": [
    "grades20161.head()"
   ]
  },
  {
   "cell_type": "markdown",
   "metadata": {},
   "source": [
    "Some of the remaining columns may have some missing data, so, in order to prevent this, we must clear all the missing values from our dataframes."
   ]
  },
  {
   "cell_type": "code",
   "execution_count": 145,
   "metadata": {},
   "outputs": [],
   "source": [
    "#Removing missing values\n",
    "grades20161.dropna(inplace=True)\n",
    "grades20162.dropna(inplace=True)\n",
    "grades20171.dropna(inplace=True)\n",
    "grades20172.dropna(inplace=True)"
   ]
  },
  {
   "cell_type": "markdown",
   "metadata": {},
   "source": [
    "At this moment, we still with a huge problem in our dataframe, each studant is showed 3 times for each enrolled discipline, but the final grade is the same to all the 3. To prevent future problems in our analysis, we must garantee that the user will be showed just one time for each enrollement, to do so, we must remove all the duplicates from our dataframes, using student id and discipline id as a removal key."
   ]
  },
  {
   "cell_type": "code",
   "execution_count": 146,
   "metadata": {},
   "outputs": [],
   "source": [
    "#Each student is shown 3 times for each enrollment, but the final grade is the same for all the 3, so we are filtering that\n",
    "grades20161 = grades20161.drop_duplicates(subset = ['id_turma','discente'])\n",
    "grades20162 = grades20162.drop_duplicates(subset = ['id_turma','discente'])\n",
    "grades20171 = grades20171.drop_duplicates(subset = ['id_turma','discente'])\n",
    "grades20172 = grades20172.drop_duplicates(subset = ['id_turma','discente'])"
   ]
  },
  {
   "cell_type": "markdown",
   "metadata": {},
   "source": [
    "Now, after cleaning the duplicates, we ended with the following dataframe:"
   ]
  },
  {
   "cell_type": "code",
   "execution_count": 147,
   "metadata": {
    "scrolled": true
   },
   "outputs": [
    {
     "data": {
      "text/html": [
       "<div>\n",
       "<style scoped>\n",
       "    .dataframe tbody tr th:only-of-type {\n",
       "        vertical-align: middle;\n",
       "    }\n",
       "\n",
       "    .dataframe tbody tr th {\n",
       "        vertical-align: top;\n",
       "    }\n",
       "\n",
       "    .dataframe thead th {\n",
       "        text-align: right;\n",
       "    }\n",
       "</style>\n",
       "<table border=\"1\" class=\"dataframe\">\n",
       "  <thead>\n",
       "    <tr style=\"text-align: right;\">\n",
       "      <th></th>\n",
       "      <th>id_turma</th>\n",
       "      <th>discente</th>\n",
       "      <th>id_curso</th>\n",
       "      <th>media_final</th>\n",
       "    </tr>\n",
       "  </thead>\n",
       "  <tbody>\n",
       "    <tr>\n",
       "      <th>0</th>\n",
       "      <td>57594062</td>\n",
       "      <td>069fb15661686bbc75f8c46af09b29ab</td>\n",
       "      <td>115439980.0</td>\n",
       "      <td>9.0</td>\n",
       "    </tr>\n",
       "    <tr>\n",
       "      <th>2</th>\n",
       "      <td>57594062</td>\n",
       "      <td>1f266264613dc5fe158a5bb1b1d4c67f</td>\n",
       "      <td>115439980.0</td>\n",
       "      <td>0.0</td>\n",
       "    </tr>\n",
       "    <tr>\n",
       "      <th>5</th>\n",
       "      <td>57594062</td>\n",
       "      <td>d42ac40a3a626084c01cea55f6841179</td>\n",
       "      <td>115439980.0</td>\n",
       "      <td>6.0</td>\n",
       "    </tr>\n",
       "    <tr>\n",
       "      <th>8</th>\n",
       "      <td>57594062</td>\n",
       "      <td>383cea5e8d0a2329a6b1bc1d460d5850</td>\n",
       "      <td>115439980.0</td>\n",
       "      <td>0.0</td>\n",
       "    </tr>\n",
       "    <tr>\n",
       "      <th>11</th>\n",
       "      <td>57594062</td>\n",
       "      <td>51f85303e4da5d2e658c1de414c8f49e</td>\n",
       "      <td>115439980.0</td>\n",
       "      <td>8.5</td>\n",
       "    </tr>\n",
       "  </tbody>\n",
       "</table>\n",
       "</div>"
      ],
      "text/plain": [
       "    id_turma                          discente     id_curso  media_final\n",
       "0   57594062  069fb15661686bbc75f8c46af09b29ab  115439980.0          9.0\n",
       "2   57594062  1f266264613dc5fe158a5bb1b1d4c67f  115439980.0          0.0\n",
       "5   57594062  d42ac40a3a626084c01cea55f6841179  115439980.0          6.0\n",
       "8   57594062  383cea5e8d0a2329a6b1bc1d460d5850  115439980.0          0.0\n",
       "11  57594062  51f85303e4da5d2e658c1de414c8f49e  115439980.0          8.5"
      ]
     },
     "execution_count": 147,
     "metadata": {},
     "output_type": "execute_result"
    }
   ],
   "source": [
    "grades20161.head()"
   ]
  },
  {
   "cell_type": "markdown",
   "metadata": {},
   "source": [
    "After the last changes, we can now remove the column of disciplines id, once our focus is more on the final grades than in the disciplines."
   ]
  },
  {
   "cell_type": "code",
   "execution_count": 148,
   "metadata": {},
   "outputs": [],
   "source": [
    "#We can now remove the column 'id_turma' from the dataframes\n",
    "grades20161 = grades20161.drop('id_turma', 1)\n",
    "grades20162 = grades20162.drop('id_turma', 1)\n",
    "grades20171 = grades20171.drop('id_turma', 1)\n",
    "grades20172 = grades20172.drop('id_turma', 1)"
   ]
  },
  {
   "cell_type": "markdown",
   "metadata": {},
   "source": [
    "Once we filtered the dataframes, removing all the duplicates, it must have one instance of student by discipline enrolled, which means that the number of disciplines enrolled per student is equals to the number of times he or she appears on the dataframes. So, for further use, we must get that information and store it."
   ]
  },
  {
   "cell_type": "code",
   "execution_count": 149,
   "metadata": {},
   "outputs": [],
   "source": [
    "#We are storing the number of enrollments per student\n",
    "enrollments20161 = grades20161.discente.value_counts()\n",
    "enrollments20162 = grades20162.discente.value_counts()\n",
    "enrollments20171 = grades20171.discente.value_counts()\n",
    "enrollments20172 = grades20172.discente.value_counts()"
   ]
  },
  {
   "cell_type": "markdown",
   "metadata": {},
   "source": [
    "Now we can create a new column containing all the disciplines enrolled per each student, for each semester."
   ]
  },
  {
   "cell_type": "code",
   "execution_count": 150,
   "metadata": {},
   "outputs": [],
   "source": [
    "#Now the number of enrollments is being stored in the column 'num_matriculas'\n",
    "def funcenrollments20161(row):\n",
    "    return enrollments20161[row.discente]\n",
    "grades20161['num_matriculas'] = grades20161.apply(funcenrollments20161, axis=1)"
   ]
  },
  {
   "cell_type": "code",
   "execution_count": 151,
   "metadata": {},
   "outputs": [],
   "source": [
    "#Now the number of enrollments is being stored in the column 'num_matriculas'\n",
    "def funcenrollments20162(row):\n",
    "    return enrollments20162[row.discente]\n",
    "grades20162['num_matriculas'] = grades20162.apply(funcenrollments20162, axis=1)"
   ]
  },
  {
   "cell_type": "code",
   "execution_count": 152,
   "metadata": {},
   "outputs": [],
   "source": [
    "#Now the number of enrollments is being stored in the column 'num_matriculas'\n",
    "def funcenrollments20171(row):\n",
    "    return enrollments20171[row.discente]\n",
    "grades20171['num_matriculas'] = grades20171.apply(funcenrollments20171, axis=1)"
   ]
  },
  {
   "cell_type": "code",
   "execution_count": 153,
   "metadata": {},
   "outputs": [],
   "source": [
    "#Now the number of enrollments is being stored in the column 'num_matriculas'\n",
    "def funcenrollments20172(row):\n",
    "    return enrollments20172[row.discente]\n",
    "grades20172['num_matriculas'] = grades20172.apply(funcenrollments20172, axis=1)"
   ]
  },
  {
   "cell_type": "markdown",
   "metadata": {},
   "source": [
    "Now that we have the number of disciplines enrolled per student stored in the column 'num_matriculas', let's see how our dataframe is looking:"
   ]
  },
  {
   "cell_type": "code",
   "execution_count": 154,
   "metadata": {},
   "outputs": [
    {
     "data": {
      "text/html": [
       "<div>\n",
       "<style scoped>\n",
       "    .dataframe tbody tr th:only-of-type {\n",
       "        vertical-align: middle;\n",
       "    }\n",
       "\n",
       "    .dataframe tbody tr th {\n",
       "        vertical-align: top;\n",
       "    }\n",
       "\n",
       "    .dataframe thead th {\n",
       "        text-align: right;\n",
       "    }\n",
       "</style>\n",
       "<table border=\"1\" class=\"dataframe\">\n",
       "  <thead>\n",
       "    <tr style=\"text-align: right;\">\n",
       "      <th></th>\n",
       "      <th>discente</th>\n",
       "      <th>id_curso</th>\n",
       "      <th>media_final</th>\n",
       "      <th>num_matriculas</th>\n",
       "    </tr>\n",
       "  </thead>\n",
       "  <tbody>\n",
       "    <tr>\n",
       "      <th>0</th>\n",
       "      <td>069fb15661686bbc75f8c46af09b29ab</td>\n",
       "      <td>115439980.0</td>\n",
       "      <td>9.0</td>\n",
       "      <td>7</td>\n",
       "    </tr>\n",
       "    <tr>\n",
       "      <th>2</th>\n",
       "      <td>1f266264613dc5fe158a5bb1b1d4c67f</td>\n",
       "      <td>115439980.0</td>\n",
       "      <td>0.0</td>\n",
       "      <td>7</td>\n",
       "    </tr>\n",
       "    <tr>\n",
       "      <th>5</th>\n",
       "      <td>d42ac40a3a626084c01cea55f6841179</td>\n",
       "      <td>115439980.0</td>\n",
       "      <td>6.0</td>\n",
       "      <td>7</td>\n",
       "    </tr>\n",
       "    <tr>\n",
       "      <th>8</th>\n",
       "      <td>383cea5e8d0a2329a6b1bc1d460d5850</td>\n",
       "      <td>115439980.0</td>\n",
       "      <td>0.0</td>\n",
       "      <td>7</td>\n",
       "    </tr>\n",
       "    <tr>\n",
       "      <th>11</th>\n",
       "      <td>51f85303e4da5d2e658c1de414c8f49e</td>\n",
       "      <td>115439980.0</td>\n",
       "      <td>8.5</td>\n",
       "      <td>7</td>\n",
       "    </tr>\n",
       "  </tbody>\n",
       "</table>\n",
       "</div>"
      ],
      "text/plain": [
       "                            discente     id_curso  media_final  num_matriculas\n",
       "0   069fb15661686bbc75f8c46af09b29ab  115439980.0          9.0               7\n",
       "2   1f266264613dc5fe158a5bb1b1d4c67f  115439980.0          0.0               7\n",
       "5   d42ac40a3a626084c01cea55f6841179  115439980.0          6.0               7\n",
       "8   383cea5e8d0a2329a6b1bc1d460d5850  115439980.0          0.0               7\n",
       "11  51f85303e4da5d2e658c1de414c8f49e  115439980.0          8.5               7"
      ]
     },
     "execution_count": 154,
     "metadata": {},
     "output_type": "execute_result"
    }
   ],
   "source": [
    "grades20161.head()"
   ]
  },
  {
   "cell_type": "markdown",
   "metadata": {},
   "source": [
    "Now we must calculate the mean of all the final grades for each student, storing it for further use in our analysis."
   ]
  },
  {
   "cell_type": "code",
   "execution_count": 155,
   "metadata": {},
   "outputs": [],
   "source": [
    "#Now we stored the mean of all the final grades for each student\n",
    "meangrades20161 = grades20161.pivot_table(index=\"discente\", values=\"media_final\", aggfunc=np.mean)\n",
    "meangrades20162 = grades20162.pivot_table(index=\"discente\", values=\"media_final\", aggfunc=np.mean)\n",
    "meangrades20171 = grades20171.pivot_table(index=\"discente\", values=\"media_final\", aggfunc=np.mean)\n",
    "meangrades20172 = grades20172.pivot_table(index=\"discente\", values=\"media_final\", aggfunc=np.mean)"
   ]
  },
  {
   "cell_type": "markdown",
   "metadata": {},
   "source": [
    "Once we already used the final grades of each student, the column will not be used anymore, so, we can remove it from our dataframes."
   ]
  },
  {
   "cell_type": "code",
   "execution_count": 156,
   "metadata": {},
   "outputs": [],
   "source": [
    "#The 'media_final' column's values will no more be used\n",
    "grades20161 = grades20161.drop('media_final', 1)\n",
    "grades20162 = grades20162.drop('media_final', 1)\n",
    "grades20171 = grades20171.drop('media_final', 1)\n",
    "grades20172 = grades20172.drop('media_final', 1)"
   ]
  },
  {
   "cell_type": "markdown",
   "metadata": {},
   "source": [
    "Now the mean of the final grades must be stored in our dataframes, to do so, we created a new column, which will be responsible for storing it."
   ]
  },
  {
   "cell_type": "code",
   "execution_count": 157,
   "metadata": {
    "scrolled": true
   },
   "outputs": [
    {
     "name": "stderr",
     "output_type": "stream",
     "text": [
      "/home/anderson/anaconda3/lib/python3.6/site-packages/ipykernel_launcher.py:3: FutureWarning: get_value is deprecated and will be removed in a future release. Please use .at[] or .iat[] accessors instead\n",
      "  This is separate from the ipykernel package so we can avoid doing imports until\n"
     ]
    }
   ],
   "source": [
    "#Now we store the mean of all final grades by student in the new column 'media_final'\n",
    "def store_values20161(row):\n",
    "    return meangrades20161.get_value(row.discente, 'media_final')\n",
    "grades20161['media_final'] = grades20161.apply(store_values20161, axis=1)"
   ]
  },
  {
   "cell_type": "code",
   "execution_count": 158,
   "metadata": {
    "scrolled": true
   },
   "outputs": [
    {
     "name": "stderr",
     "output_type": "stream",
     "text": [
      "/home/anderson/anaconda3/lib/python3.6/site-packages/ipykernel_launcher.py:3: FutureWarning: get_value is deprecated and will be removed in a future release. Please use .at[] or .iat[] accessors instead\n",
      "  This is separate from the ipykernel package so we can avoid doing imports until\n"
     ]
    }
   ],
   "source": [
    "#Now we store the mean of all final grades by student in the new column 'media_final'\n",
    "def store_values20162(row):\n",
    "    return meangrades20162.get_value(row.discente, 'media_final')\n",
    "grades20162['media_final'] = grades20162.apply(store_values20162, axis=1)"
   ]
  },
  {
   "cell_type": "code",
   "execution_count": 159,
   "metadata": {
    "scrolled": true
   },
   "outputs": [
    {
     "name": "stderr",
     "output_type": "stream",
     "text": [
      "/home/anderson/anaconda3/lib/python3.6/site-packages/ipykernel_launcher.py:3: FutureWarning: get_value is deprecated and will be removed in a future release. Please use .at[] or .iat[] accessors instead\n",
      "  This is separate from the ipykernel package so we can avoid doing imports until\n"
     ]
    }
   ],
   "source": [
    "#Now we store the mean of all final grades by student in the new column 'media_final'\n",
    "def store_values20171(row):\n",
    "    return meangrades20171.get_value(row.discente, 'media_final')\n",
    "grades20171['media_final'] = grades20171.apply(store_values20171, axis=1)"
   ]
  },
  {
   "cell_type": "code",
   "execution_count": 160,
   "metadata": {
    "scrolled": false
   },
   "outputs": [
    {
     "name": "stderr",
     "output_type": "stream",
     "text": [
      "/home/anderson/anaconda3/lib/python3.6/site-packages/ipykernel_launcher.py:3: FutureWarning: get_value is deprecated and will be removed in a future release. Please use .at[] or .iat[] accessors instead\n",
      "  This is separate from the ipykernel package so we can avoid doing imports until\n"
     ]
    }
   ],
   "source": [
    "#Now we store the mean of all final grades by student in the new column 'media_final'\n",
    "def store_values20172(row):\n",
    "    return meangrades20172.get_value(row.discente, 'media_final')\n",
    "grades20172['media_final'] = grades20172.apply(store_values20172, axis=1)"
   ]
  },
  {
   "cell_type": "markdown",
   "metadata": {},
   "source": [
    "Now we must have the mean of all the final grades stored in the column 'media_final', lets see our dataframe:"
   ]
  },
  {
   "cell_type": "code",
   "execution_count": 161,
   "metadata": {
    "scrolled": true
   },
   "outputs": [
    {
     "data": {
      "text/html": [
       "<div>\n",
       "<style scoped>\n",
       "    .dataframe tbody tr th:only-of-type {\n",
       "        vertical-align: middle;\n",
       "    }\n",
       "\n",
       "    .dataframe tbody tr th {\n",
       "        vertical-align: top;\n",
       "    }\n",
       "\n",
       "    .dataframe thead th {\n",
       "        text-align: right;\n",
       "    }\n",
       "</style>\n",
       "<table border=\"1\" class=\"dataframe\">\n",
       "  <thead>\n",
       "    <tr style=\"text-align: right;\">\n",
       "      <th></th>\n",
       "      <th>discente</th>\n",
       "      <th>id_curso</th>\n",
       "      <th>num_matriculas</th>\n",
       "      <th>media_final</th>\n",
       "    </tr>\n",
       "  </thead>\n",
       "  <tbody>\n",
       "    <tr>\n",
       "      <th>0</th>\n",
       "      <td>069fb15661686bbc75f8c46af09b29ab</td>\n",
       "      <td>115439980.0</td>\n",
       "      <td>7</td>\n",
       "      <td>8.842857</td>\n",
       "    </tr>\n",
       "    <tr>\n",
       "      <th>2</th>\n",
       "      <td>1f266264613dc5fe158a5bb1b1d4c67f</td>\n",
       "      <td>115439980.0</td>\n",
       "      <td>7</td>\n",
       "      <td>0.000000</td>\n",
       "    </tr>\n",
       "    <tr>\n",
       "      <th>5</th>\n",
       "      <td>d42ac40a3a626084c01cea55f6841179</td>\n",
       "      <td>115439980.0</td>\n",
       "      <td>7</td>\n",
       "      <td>7.342857</td>\n",
       "    </tr>\n",
       "    <tr>\n",
       "      <th>8</th>\n",
       "      <td>383cea5e8d0a2329a6b1bc1d460d5850</td>\n",
       "      <td>115439980.0</td>\n",
       "      <td>7</td>\n",
       "      <td>0.242857</td>\n",
       "    </tr>\n",
       "    <tr>\n",
       "      <th>11</th>\n",
       "      <td>51f85303e4da5d2e658c1de414c8f49e</td>\n",
       "      <td>115439980.0</td>\n",
       "      <td>7</td>\n",
       "      <td>8.714286</td>\n",
       "    </tr>\n",
       "  </tbody>\n",
       "</table>\n",
       "</div>"
      ],
      "text/plain": [
       "                            discente     id_curso  num_matriculas  media_final\n",
       "0   069fb15661686bbc75f8c46af09b29ab  115439980.0               7     8.842857\n",
       "2   1f266264613dc5fe158a5bb1b1d4c67f  115439980.0               7     0.000000\n",
       "5   d42ac40a3a626084c01cea55f6841179  115439980.0               7     7.342857\n",
       "8   383cea5e8d0a2329a6b1bc1d460d5850  115439980.0               7     0.242857\n",
       "11  51f85303e4da5d2e658c1de414c8f49e  115439980.0               7     8.714286"
      ]
     },
     "execution_count": 161,
     "metadata": {},
     "output_type": "execute_result"
    }
   ],
   "source": [
    "grades20161.head()"
   ]
  },
  {
   "cell_type": "markdown",
   "metadata": {},
   "source": [
    "Now, some of the students may have the mean of their final grades equals to 0, which might mean he or she gave up of the course, so, in order to inprove our analysis, we must remove these students from the dataframe."
   ]
  },
  {
   "cell_type": "code",
   "execution_count": 162,
   "metadata": {},
   "outputs": [],
   "source": [
    "grades20161 = grades20161.drop(grades20161[grades20161.media_final == 0.0].index)\n",
    "grades20162 = grades20162.drop(grades20162[grades20162.media_final == 0.0].index)\n",
    "grades20171 = grades20171.drop(grades20171[grades20171.media_final == 0.0].index)\n",
    "grades20172 = grades20172.drop(grades20172[grades20172.media_final == 0.0].index)"
   ]
  },
  {
   "cell_type": "markdown",
   "metadata": {},
   "source": [
    "We have come across one more time with the duplicates problem, because now that we have the mean of all the students final grades, a student must appear just one time per semester, so we must filter our dataframes to contain only one student per semester."
   ]
  },
  {
   "cell_type": "code",
   "execution_count": 163,
   "metadata": {},
   "outputs": [],
   "source": [
    "#Now we remove the duplicates based on the student id, letting just the mean of all final grades by each student\n",
    "grades20161 = grades20161.drop_duplicates(subset = ['discente'])"
   ]
  },
  {
   "cell_type": "code",
   "execution_count": 164,
   "metadata": {},
   "outputs": [],
   "source": [
    "#Now we remove the duplicates based on the student id, letting just the mean of all final grades by each student\n",
    "grades20162 = grades20162.drop_duplicates(subset = ['discente'])"
   ]
  },
  {
   "cell_type": "code",
   "execution_count": 165,
   "metadata": {},
   "outputs": [],
   "source": [
    "#Now we remove the duplicates based on the student id, letting just the mean of all final grades by each student\n",
    "grades20171 = grades20171.drop_duplicates(subset = ['discente'])"
   ]
  },
  {
   "cell_type": "code",
   "execution_count": 166,
   "metadata": {},
   "outputs": [],
   "source": [
    "#Now we remove the duplicates based on the student id, letting just the mean of all final grades by each student\n",
    "grades20172 = grades20172.drop_duplicates(subset = ['discente'])"
   ]
  },
  {
   "cell_type": "markdown",
   "metadata": {},
   "source": [
    "Now that we have the mean of all the students final grades, we can finally use them to calculate the mean of all grades by course, that will be ordered by the number of enrollments per students."
   ]
  },
  {
   "cell_type": "code",
   "execution_count": 167,
   "metadata": {},
   "outputs": [],
   "source": [
    "#Now that we have the mean of students final grades, we can finally use it to calcule the mean of grades by course\n",
    "grades_by_course20161 = grades20161.pivot_table(index = ['id_curso', 'num_matriculas'], values = 'media_final', aggfunc=np.mean)"
   ]
  },
  {
   "cell_type": "code",
   "execution_count": 168,
   "metadata": {},
   "outputs": [],
   "source": [
    "#Now that we have the mean of students final grades, we can finally use it to calcule the mean of grades by course\n",
    "grades_by_course20162 = grades20162.pivot_table(index = ['id_curso', 'num_matriculas'], values = 'media_final', aggfunc=np.mean)"
   ]
  },
  {
   "cell_type": "code",
   "execution_count": 169,
   "metadata": {},
   "outputs": [],
   "source": [
    "#Now that we have the mean of students final grades, we can finally use it to calcule the mean of grades by course\n",
    "grades_by_course20171 = grades20171.pivot_table(index = ['id_curso', 'num_matriculas'], values = 'media_final', aggfunc=np.mean)"
   ]
  },
  {
   "cell_type": "code",
   "execution_count": 170,
   "metadata": {},
   "outputs": [],
   "source": [
    "#Now that we have the mean of students final grades, we can finally use it to calcule the mean of grades by course\n",
    "grades_by_course20172 = grades20172.pivot_table(index = ['id_curso', 'num_matriculas'], values = 'media_final', aggfunc=np.mean)"
   ]
  },
  {
   "cell_type": "markdown",
   "metadata": {},
   "source": [
    "Let's see how the mean of all final grades by course looks like:"
   ]
  },
  {
   "cell_type": "code",
   "execution_count": 171,
   "metadata": {},
   "outputs": [
    {
     "data": {
      "text/html": [
       "<div>\n",
       "<style scoped>\n",
       "    .dataframe tbody tr th:only-of-type {\n",
       "        vertical-align: middle;\n",
       "    }\n",
       "\n",
       "    .dataframe tbody tr th {\n",
       "        vertical-align: top;\n",
       "    }\n",
       "\n",
       "    .dataframe thead th {\n",
       "        text-align: right;\n",
       "    }\n",
       "</style>\n",
       "<table border=\"1\" class=\"dataframe\">\n",
       "  <thead>\n",
       "    <tr style=\"text-align: right;\">\n",
       "      <th></th>\n",
       "      <th></th>\n",
       "      <th>media_final</th>\n",
       "    </tr>\n",
       "    <tr>\n",
       "      <th>id_curso</th>\n",
       "      <th>num_matriculas</th>\n",
       "      <th></th>\n",
       "    </tr>\n",
       "  </thead>\n",
       "  <tbody>\n",
       "    <tr>\n",
       "      <th rowspan=\"5\" valign=\"top\">4970.0</th>\n",
       "      <th>1</th>\n",
       "      <td>8.587234</td>\n",
       "    </tr>\n",
       "    <tr>\n",
       "      <th>2</th>\n",
       "      <td>7.629268</td>\n",
       "    </tr>\n",
       "    <tr>\n",
       "      <th>3</th>\n",
       "      <td>7.908120</td>\n",
       "    </tr>\n",
       "    <tr>\n",
       "      <th>4</th>\n",
       "      <td>8.192105</td>\n",
       "    </tr>\n",
       "    <tr>\n",
       "      <th>5</th>\n",
       "      <td>7.068000</td>\n",
       "    </tr>\n",
       "  </tbody>\n",
       "</table>\n",
       "</div>"
      ],
      "text/plain": [
       "                         media_final\n",
       "id_curso num_matriculas             \n",
       "4970.0   1                  8.587234\n",
       "         2                  7.629268\n",
       "         3                  7.908120\n",
       "         4                  8.192105\n",
       "         5                  7.068000"
      ]
     },
     "execution_count": 171,
     "metadata": {},
     "output_type": "execute_result"
    }
   ],
   "source": [
    "grades_by_course20161.head()"
   ]
  },
  {
   "cell_type": "markdown",
   "metadata": {},
   "source": [
    "The next step is store all the ids of the courses we want to analyse, for further use:"
   ]
  },
  {
   "cell_type": "code",
   "execution_count": 172,
   "metadata": {},
   "outputs": [],
   "source": [
    "#Now we store the id of each course, for use it in the analysis\n",
    "ti_id = 92127264.0\n",
    "cb_id = 111635035.0\n",
    "cet_id = 10320810.0\n",
    "hist_id = 111635060.0"
   ]
  },
  {
   "cell_type": "markdown",
   "metadata": {},
   "source": [
    "Now that we have the courses ids, it's time to get all the grades of the courses for plot the graphics."
   ]
  },
  {
   "cell_type": "code",
   "execution_count": 173,
   "metadata": {},
   "outputs": [],
   "source": [
    "#Now we have to store the grades for each course in 2016.1\n",
    "ti_grades_20161 = []\n",
    "cb_grades_20161 = []\n",
    "cet_grades_20161 = []\n",
    "hist_grades_20161 = []\n",
    "#Here we are storing the mean of the courses final grades by number of enrollments\n",
    "for x in range(1, 8):\n",
    "    ti_grades_20161.append(grades_by_course20161.media_final[ti_id][x])\n",
    "    cb_grades_20161.append(grades_by_course20161.media_final[cb_id][x])\n",
    "    cet_grades_20161.append(grades_by_course20161.media_final[cet_id][x])\n",
    "    hist_grades_20161.append(grades_by_course20161.media_final[hist_id][x])"
   ]
  },
  {
   "cell_type": "code",
   "execution_count": 174,
   "metadata": {},
   "outputs": [],
   "source": [
    "#Now we have to store the grades for each course in 2016.2\n",
    "ti_grades_20162 = []\n",
    "cb_grades_20162 = []\n",
    "cet_grades_20162 = []\n",
    "hist_grades_20162 = []\n",
    "#Here we are storing the mean of the courses final grades by number of enrollments\n",
    "for x in range(1, 8):\n",
    "    ti_grades_20162.append(grades_by_course20162.media_final[ti_id][x])\n",
    "    cb_grades_20162.append(grades_by_course20162.media_final[cb_id][x])\n",
    "    cet_grades_20162.append(grades_by_course20162.media_final[cet_id][x])\n",
    "    hist_grades_20162.append(grades_by_course20162.media_final[hist_id][x])"
   ]
  },
  {
   "cell_type": "code",
   "execution_count": 175,
   "metadata": {},
   "outputs": [],
   "source": [
    "#Now we have to store the grades for each course in 2017.1\n",
    "ti_grades_20171 = []\n",
    "cb_grades_20171 = []\n",
    "cet_grades_20171 = []\n",
    "hist_grades_20171 = []\n",
    "#Here we are storing the mean of the courses final grades by number of enrollments\n",
    "for x in range(1, 8):\n",
    "    ti_grades_20171.append(grades_by_course20171.media_final[ti_id][x])\n",
    "    cb_grades_20171.append(grades_by_course20171.media_final[cb_id][x])\n",
    "    cet_grades_20171.append(grades_by_course20171.media_final[cet_id][x])\n",
    "    hist_grades_20171.append(grades_by_course20171.media_final[hist_id][x])"
   ]
  },
  {
   "cell_type": "code",
   "execution_count": 176,
   "metadata": {},
   "outputs": [],
   "source": [
    "#Now we have to store the grades for each course in 2017.2\n",
    "ti_grades_20172 = []\n",
    "cb_grades_20172 = []\n",
    "cet_grades_20172 = []\n",
    "hist_grades_20172 = []\n",
    "#Here we are storing the mean of the courses final grades by number of enrollments\n",
    "for x in range(1, 8):\n",
    "    ti_grades_20172.append(grades_by_course20172.media_final[ti_id][x])\n",
    "    cb_grades_20172.append(grades_by_course20172.media_final[cb_id][x])\n",
    "    cet_grades_20172.append(grades_by_course20172.media_final[cet_id][x])\n",
    "    hist_grades_20172.append(grades_by_course20172.media_final[hist_id][x])"
   ]
  }
 ],
 "metadata": {
  "kernelspec": {
   "display_name": "Python 3",
   "language": "python",
   "name": "python3"
  },
  "language_info": {
   "codemirror_mode": {
    "name": "ipython",
    "version": 3
   },
   "file_extension": ".py",
   "mimetype": "text/x-python",
   "name": "python",
   "nbconvert_exporter": "python",
   "pygments_lexer": "ipython3",
   "version": "3.6.4"
  }
 },
 "nbformat": 4,
 "nbformat_minor": 2
}
