{
 "cells": [
  {
   "cell_type": "code",
   "execution_count": 3,
   "metadata": {},
   "outputs": [],
   "source": [
    "import pandas as pd\n",
    "import matplotlib.pyplot as plt\n",
    "import seaborn as sns\n",
    "import numpy as np"
   ]
  },
  {
   "cell_type": "code",
   "execution_count": 10,
   "metadata": {},
   "outputs": [],
   "source": [
    "matr = pd.read_csv('dados.ufrn.br/dataset/c8650d55-3c5a-4787-a126-d28a4ef902a6/resource/55dfe713-ff7c-4fa8-8d1d-d4294a025bff/download/matricula-componente-20172', sep=';')"
   ]
  },
  {
   "cell_type": "code",
   "execution_count": null,
   "metadata": {},
   "outputs": [],
   "source": []
  },
  {
   "cell_type": "code",
   "execution_count": 12,
   "metadata": {},
   "outputs": [],
   "source": [
    "matr.dropna(inplace=True)\n",
    "matr = matr.drop_duplicates(subset = ['id_turma','discente'])"
   ]
  },
  {
   "cell_type": "code",
   "execution_count": 13,
   "metadata": {},
   "outputs": [],
   "source": [
    "counts = matr.discente.value_counts()"
   ]
  },
  {
   "cell_type": "code",
   "execution_count": 15,
   "metadata": {},
   "outputs": [],
   "source": [
    "matr = matr.drop(matr[matr.descricao == 'DESISTENCIA'].index)\n",
    "matr = matr.drop(matr[matr.descricao == 'CANCELADO'].index)"
   ]
  },
  {
   "cell_type": "code",
   "execution_count": 17,
   "metadata": {},
   "outputs": [],
   "source": [
    "def which_class(row):\n",
    "    return counts[row.discente]\n",
    "matr['num_matriculas'] = matr.apply(which_class, axis=1)"
   ]
  },
  {
   "cell_type": "code",
   "execution_count": 52,
   "metadata": {},
   "outputs": [],
   "source": [
    "medias = matr.pivot_table(index=\"discente\", values=\"media_final\", aggfunc=np.mean)"
   ]
  },
  {
   "cell_type": "code",
   "execution_count": 53,
   "metadata": {},
   "outputs": [],
   "source": [
    "matr = matr.drop(['id_turma', 'unidade', 'nota', 'reposicao', 'faltas_unidade', 'media_final', 'numero_total_faltas'], 1)"
   ]
  },
  {
   "cell_type": "code",
   "execution_count": 55,
   "metadata": {},
   "outputs": [
    {
     "name": "stderr",
     "output_type": "stream",
     "text": [
      "/home/anderson/anaconda3/lib/python3.6/site-packages/ipykernel_launcher.py:2: FutureWarning: get_value is deprecated and will be removed in a future release. Please use .at[] or .iat[] accessors instead\n",
      "  \n"
     ]
    }
   ],
   "source": [
    "def which_class(row):\n",
    "    return medias.get_value(row.discente, 'media_final')\n",
    "matr['media_final'] = matr.apply(which_class, axis=1)"
   ]
  },
  {
   "cell_type": "code",
   "execution_count": 58,
   "metadata": {},
   "outputs": [],
   "source": [
    "matr = matr.drop_duplicates(subset = ['discente'])"
   ]
  },
  {
   "cell_type": "markdown",
   "metadata": {},
   "source": [
    "id dos cursos:\n",
    "ti: 92127264\n",
    "cb: 111635035\n",
    "cet: 10320810\n",
    "historia: 111635060"
   ]
  },
  {
   "cell_type": "code",
   "execution_count": 59,
   "metadata": {},
   "outputs": [],
   "source": [
    "medias_por_curso = matr.pivot_table(index = ['id_curso', 'num_matriculas'], values = 'media_final', aggfunc=np.mean)"
   ]
  },
  {
   "cell_type": "code",
   "execution_count": 170,
   "metadata": {
    "collapsed": true
   },
   "outputs": [],
   "source": [
    "ti = []\n",
    "cb = []\n",
    "cet = []\n",
    "hist = []\n",
    "for x in range(1, 8):\n",
    "    ti.append(medias_por_curso.media_final[92127264.0][x])\n",
    "    cb.append(medias_por_curso.media_final[111635035.0][x])\n",
    "    cet.append(medias_por_curso.media_final[10320810.0][x])\n",
    "    hist.append(medias_por_curso.media_final[111635060.0][x])"
   ]
  },
  {
   "cell_type": "code",
   "execution_count": 171,
   "metadata": {},
   "outputs": [],
   "source": [
    "plt.plot([1,2,3,4,5,6,7], ti, label='ti')\n",
    "plt.plot([1,2,3,4,5,6,7], cb, label='Ciencias Biológicas')\n",
    "plt.plot([1,2,3,4,5,6,7], cet, label = 'CeT')\n",
    "plt.plot([1,2,3,4,5,6,7], hist, label = 'História')\n",
    "plt.title('média de notas por curso por quantidade de matérias')\n",
    "plt.legend(bbox_to_anchor=(1.05, 1), loc=2, borderaxespad=0., title = 'curso')\n",
    "plt.ylabel= 'jaja'"
   ]
  },
  {
   "cell_type": "code",
   "execution_count": 60,
   "metadata": {},
   "outputs": [],
   "source": [
    "plt.show()"
   ]
  }
 ],
 "metadata": {
  "kernelspec": {
   "display_name": "Python 3",
   "language": "python",
   "name": "python3"
  },
  "language_info": {
   "codemirror_mode": {
    "name": "ipython",
    "version": 3
   },
   "file_extension": ".py",
   "mimetype": "text/x-python",
   "name": "python",
   "nbconvert_exporter": "python",
   "pygments_lexer": "ipython3",
   "version": "3.6.4"
  }
 },
 "nbformat": 4,
 "nbformat_minor": 2
}
