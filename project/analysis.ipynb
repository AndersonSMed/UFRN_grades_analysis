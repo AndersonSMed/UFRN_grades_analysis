{
 "cells": [
  {
   "cell_type": "code",
   "execution_count": 1,
   "metadata": {},
   "outputs": [],
   "source": [
    "#Importing libraries\n",
    "import pandas as pd\n",
    "import matplotlib.pyplot as plt\n",
    "import seaborn as sns\n",
    "import numpy as np"
   ]
  },
  {
   "cell_type": "code",
   "execution_count": 43,
   "metadata": {},
   "outputs": [],
   "source": [
    "#Loading dataframes from all the 4 semesters\n",
    "grades20161 = pd.read_csv('http://dados.ufrn.br/dataset/c8650d55-3c5a-4787-a126-d28a4ef902a6/resource/4778d3ce-8898-46a8-a623-ee6a480a2980/download/matriculas-de-2016.1.csv', sep=';')\n",
    "grades20162 = pd.read_csv('http://dados.ufrn.br/dataset/c8650d55-3c5a-4787-a126-d28a4ef902a6/resource/f6179838-b619-4d7d-af9c-18c438b80dd4/download/matriculas-de-2016.2.csv', sep=';')\n",
    "grades20171 = pd.read_csv('http://dados.ufrn.br/dataset/c8650d55-3c5a-4787-a126-d28a4ef902a6/resource/79071c21-e32c-438f-b930-d1b6ccc02ec2/download/matricula-componente-20171', sep=';')\n",
    "grades20172 = pd.read_csv('http://dados.ufrn.br/dataset/c8650d55-3c5a-4787-a126-d28a4ef902a6/resource/55dfe713-ff7c-4fa8-8d1d-d4294a025bff/download/matricula-componente-20172', sep=';')"
   ]
  },
  {
   "cell_type": "code",
   "execution_count": 44,
   "metadata": {},
   "outputs": [],
   "source": [
    "#Removing a undefined column from the 2016.1 and 2016.2 dataframes\n",
    "grades20161 = grades20161.drop('Unnamed: 10',1)\n",
    "grades20162 = grades20162.drop('Unnamed: 10',1)"
   ]
  },
  {
   "cell_type": "code",
   "execution_count": 45,
   "metadata": {},
   "outputs": [],
   "source": [
    "#Function for filtering data to get only the valid enrollments\n",
    "def filter_columns(df):\n",
    "    df = df.drop(df[df.descricao == 'DESISTENCIA'].index)\n",
    "    df = df.drop(df[df.descricao == 'CANCELADO'].index)\n",
    "    df = df.drop(df[df.descricao == 'INDEFERIDO'].index)\n",
    "    df = df.drop(df[df.descricao == 'REPROVADO POR MÉDIA E POR FALTAS'].index)\n",
    "    df = df.drop(df[df.descricao == 'CANCELADO'].index)\n",
    "    df = df.drop(df[df.descricao == 'EXCLUIDA'].index)\n",
    "    df = df.drop(df[df.descricao == 'TRANCADO'].index)\n",
    "    df = df.drop(df[df.descricao == 'AGUARDANDO DEFERIMENTO'].index)\n",
    "    df = df.drop(df[df.descricao == 'REPROVADO POR NOTA E FALTA'].index)\n",
    "    df = df.drop(df[df.descricao == 'CUMPRIU'].index)\n",
    "    df = df.drop(df[df.descricao == 'DISPENSADO'].index)\n",
    "    df = df.drop(df[df.descricao == 'TRANSFERIDO'].index)\n",
    "    df = df.drop(df[df.descricao == 'INCORPORADO'].index)\n",
    "    return df"
   ]
  },
  {
   "cell_type": "code",
   "execution_count": 46,
   "metadata": {},
   "outputs": [],
   "source": [
    "#Filtering data to get only the valid enrollments from 2016.1\n",
    "grades20161 = filter_columns(grades20161)"
   ]
  },
  {
   "cell_type": "code",
   "execution_count": 47,
   "metadata": {},
   "outputs": [],
   "source": [
    "#Filtering data to get only the valid enrollments from 2016.2\n",
    "grades20162 = filter_columns(grades20162)"
   ]
  },
  {
   "cell_type": "code",
   "execution_count": 48,
   "metadata": {},
   "outputs": [],
   "source": [
    "#Filtering data to get only the valid enrollments from 2017.1\n",
    "grades20171 = filter_columns(grades20171)"
   ]
  },
  {
   "cell_type": "code",
   "execution_count": 49,
   "metadata": {},
   "outputs": [],
   "source": [
    "#Filtering data to get only the valid enrollments from 2017.2\n",
    "grades20172 = filter_columns(grades20172)"
   ]
  },
  {
   "cell_type": "code",
   "execution_count": 50,
   "metadata": {},
   "outputs": [],
   "source": [
    "#Function to remove columns that are not used\n",
    "def remove_columns(df):\n",
    "    df = df.drop(['unidade', 'nota', 'reposicao', 'faltas_unidade', 'numero_total_faltas', 'descricao'], 1)\n",
    "    return df"
   ]
  },
  {
   "cell_type": "code",
   "execution_count": 51,
   "metadata": {},
   "outputs": [],
   "source": [
    "#Removing columns that are not used\n",
    "grades20161 = remove_columns(grades20161)\n",
    "grades20162 = remove_columns(grades20162)\n",
    "grades20171 = remove_columns(grades20171)\n",
    "grades20172 = remove_columns(grades20172)"
   ]
  },
  {
   "cell_type": "code",
   "execution_count": 52,
   "metadata": {},
   "outputs": [],
   "source": [
    "#Removing missing values\n",
    "grades20161.dropna(inplace=True)\n",
    "grades20162.dropna(inplace=True)\n",
    "grades20171.dropna(inplace=True)\n",
    "grades20172.dropna(inplace=True)"
   ]
  },
  {
   "cell_type": "code",
   "execution_count": 53,
   "metadata": {},
   "outputs": [],
   "source": [
    "#Each student is shown 3 times for each enrollment, but the final grade is the same for all the 3, so we are filtering that\n",
    "grades20161 = grades20161.drop_duplicates(subset = ['id_turma','discente'])\n",
    "grades20162 = grades20162.drop_duplicates(subset = ['id_turma','discente'])\n",
    "grades20171 = grades20171.drop_duplicates(subset = ['id_turma','discente'])\n",
    "grades20172 = grades20172.drop_duplicates(subset = ['id_turma','discente'])"
   ]
  },
  {
   "cell_type": "code",
   "execution_count": 54,
   "metadata": {},
   "outputs": [],
   "source": [
    "#We can now remove the column 'id_turma' from the dataframes\n",
    "grades20161 = grades20161.drop('id_turma', 1)\n",
    "grades20162 = grades20162.drop('id_turma', 1)\n",
    "grades20171 = grades20171.drop('id_turma', 1)\n",
    "grades20172 = grades20172.drop('id_turma', 1)"
   ]
  },
  {
   "cell_type": "code",
   "execution_count": 55,
   "metadata": {},
   "outputs": [],
   "source": [
    "#We are storing the number of enrollments for each student\n",
    "enrollments20161 = grades20161.discente.value_counts()\n",
    "enrollments20162 = grades20162.discente.value_counts()\n",
    "enrollments20171 = grades20171.discente.value_counts()\n",
    "enrollments20172 = grades20172.discente.value_counts()"
   ]
  },
  {
   "cell_type": "code",
   "execution_count": 56,
   "metadata": {},
   "outputs": [],
   "source": [
    "#Now the number of enrollments is being stored in the column 'num_matriculas'\n",
    "def funcenrollments20161(row):\n",
    "    return enrollments20161[row.discente]\n",
    "grades20161['num_matriculas'] = grades20161.apply(funcenrollments20161, axis=1)"
   ]
  },
  {
   "cell_type": "code",
   "execution_count": 57,
   "metadata": {},
   "outputs": [],
   "source": [
    "#Now the number of enrollments is being stored in the column 'num_matriculas'\n",
    "def funcenrollments20162(row):\n",
    "    return enrollments20162[row.discente]\n",
    "grades20162['num_matriculas'] = grades20162.apply(funcenrollments20162, axis=1)"
   ]
  },
  {
   "cell_type": "code",
   "execution_count": 58,
   "metadata": {},
   "outputs": [],
   "source": [
    "#Now the number of enrollments is being stored in the column 'num_matriculas'\n",
    "def funcenrollments20171(row):\n",
    "    return enrollments20171[row.discente]\n",
    "grades20171['num_matriculas'] = grades20171.apply(funcenrollments20171, axis=1)"
   ]
  },
  {
   "cell_type": "code",
   "execution_count": 59,
   "metadata": {},
   "outputs": [],
   "source": [
    "#Now the number of enrollments is being stored in the column 'num_matriculas'\n",
    "def funcenrollments20172(row):\n",
    "    return enrollments20172[row.discente]\n",
    "grades20172['num_matriculas'] = grades20172.apply(funcenrollments20172, axis=1)"
   ]
  },
  {
   "cell_type": "code",
   "execution_count": 60,
   "metadata": {},
   "outputs": [],
   "source": [
    "#Now we stored the mean of all the final grades for each student\n",
    "meangrades20161 = grades20161.pivot_table(index=\"discente\", values=\"media_final\", aggfunc=np.mean)\n",
    "meangrades20162 = grades20162.pivot_table(index=\"discente\", values=\"media_final\", aggfunc=np.mean)\n",
    "meangrades20171 = grades20171.pivot_table(index=\"discente\", values=\"media_final\", aggfunc=np.mean)\n",
    "meangrades20172 = grades20172.pivot_table(index=\"discente\", values=\"media_final\", aggfunc=np.mean)"
   ]
  },
  {
   "cell_type": "code",
   "execution_count": 61,
   "metadata": {},
   "outputs": [],
   "source": [
    "#The 'media_final' column's values will no more be used\n",
    "grades20161 = grades20161.drop('media_final', 1)\n",
    "grades20162 = grades20162.drop('media_final', 1)\n",
    "grades20171 = grades20171.drop('media_final', 1)\n",
    "grades20172 = grades20172.drop('media_final', 1)"
   ]
  },
  {
   "cell_type": "code",
   "execution_count": 62,
   "metadata": {
    "scrolled": true
   },
   "outputs": [
    {
     "name": "stderr",
     "output_type": "stream",
     "text": [
      "/home/anderson/anaconda3/lib/python3.6/site-packages/ipykernel_launcher.py:3: FutureWarning: get_value is deprecated and will be removed in a future release. Please use .at[] or .iat[] accessors instead\n",
      "  This is separate from the ipykernel package so we can avoid doing imports until\n"
     ]
    }
   ],
   "source": [
    "#Now we store the mean of all final grades by student in the new column 'media_final'\n",
    "def store_values20161(row):\n",
    "    return meangrades20161.get_value(row.discente, 'media_final')\n",
    "grades20161['media_final'] = grades20161.apply(store_values20161, axis=1)"
   ]
  },
  {
   "cell_type": "code",
   "execution_count": 63,
   "metadata": {
    "scrolled": true
   },
   "outputs": [
    {
     "name": "stderr",
     "output_type": "stream",
     "text": [
      "/home/anderson/anaconda3/lib/python3.6/site-packages/ipykernel_launcher.py:3: FutureWarning: get_value is deprecated and will be removed in a future release. Please use .at[] or .iat[] accessors instead\n",
      "  This is separate from the ipykernel package so we can avoid doing imports until\n"
     ]
    }
   ],
   "source": [
    "#Now we store the mean of all final grades by student in the new column 'media_final'\n",
    "def store_values20162(row):\n",
    "    return meangrades20162.get_value(row.discente, 'media_final')\n",
    "grades20162['media_final'] = grades20162.apply(store_values20162, axis=1)"
   ]
  },
  {
   "cell_type": "code",
   "execution_count": 64,
   "metadata": {
    "scrolled": true
   },
   "outputs": [
    {
     "name": "stderr",
     "output_type": "stream",
     "text": [
      "/home/anderson/anaconda3/lib/python3.6/site-packages/ipykernel_launcher.py:3: FutureWarning: get_value is deprecated and will be removed in a future release. Please use .at[] or .iat[] accessors instead\n",
      "  This is separate from the ipykernel package so we can avoid doing imports until\n"
     ]
    }
   ],
   "source": [
    "#Now we store the mean of all final grades by student in the new column 'media_final'\n",
    "def store_values20171(row):\n",
    "    return meangrades20171.get_value(row.discente, 'media_final')\n",
    "grades20171['media_final'] = grades20171.apply(store_values20171, axis=1)"
   ]
  },
  {
   "cell_type": "code",
   "execution_count": 65,
   "metadata": {
    "scrolled": true
   },
   "outputs": [
    {
     "name": "stderr",
     "output_type": "stream",
     "text": [
      "/home/anderson/anaconda3/lib/python3.6/site-packages/ipykernel_launcher.py:3: FutureWarning: get_value is deprecated and will be removed in a future release. Please use .at[] or .iat[] accessors instead\n",
      "  This is separate from the ipykernel package so we can avoid doing imports until\n"
     ]
    }
   ],
   "source": [
    "#Now we store the mean of all final grades by student in the new column 'media_final'\n",
    "def store_values20172(row):\n",
    "    return meangrades20172.get_value(row.discente, 'media_final')\n",
    "grades20172['media_final'] = grades20172.apply(store_values20172, axis=1)"
   ]
  },
  {
   "cell_type": "code",
   "execution_count": 66,
   "metadata": {},
   "outputs": [],
   "source": [
    "#Now we remove the duplicates based on the student id, letting just the mean of all final grades by each student\n",
    "grades20161 = grades20161.drop_duplicates(subset = ['discente'])"
   ]
  },
  {
   "cell_type": "code",
   "execution_count": 67,
   "metadata": {},
   "outputs": [],
   "source": [
    "#Now we remove the duplicates based on the student id, letting just the mean of all final grades by each student\n",
    "grades20162 = grades20162.drop_duplicates(subset = ['discente'])"
   ]
  },
  {
   "cell_type": "code",
   "execution_count": 68,
   "metadata": {},
   "outputs": [],
   "source": [
    "#Now we remove the duplicates based on the student id, letting just the mean of all final grades by each student\n",
    "grades20171 = grades20171.drop_duplicates(subset = ['discente'])"
   ]
  },
  {
   "cell_type": "code",
   "execution_count": 69,
   "metadata": {},
   "outputs": [],
   "source": [
    "#Now we remove the duplicates based on the student id, letting just the mean of all final grades by each student\n",
    "grades20172 = grades20172.drop_duplicates(subset = ['discente'])"
   ]
  },
  {
   "cell_type": "code",
   "execution_count": 70,
   "metadata": {},
   "outputs": [],
   "source": [
    "#Now that we have the mean of students final grades, we can finally use it to calcule the mean of grades by course\n",
    "grades_by_course20161 = grades20161.pivot_table(index = ['id_curso', 'num_matriculas'], values = 'media_final', aggfunc=np.mean)"
   ]
  },
  {
   "cell_type": "code",
   "execution_count": 71,
   "metadata": {},
   "outputs": [],
   "source": [
    "#Now that we have the mean of students final grades, we can finally use it to calcule the mean of grades by course\n",
    "grades_by_course20162 = grades20162.pivot_table(index = ['id_curso', 'num_matriculas'], values = 'media_final', aggfunc=np.mean)"
   ]
  },
  {
   "cell_type": "code",
   "execution_count": 72,
   "metadata": {},
   "outputs": [],
   "source": [
    "#Now that we have the mean of students final grades, we can finally use it to calcule the mean of grades by course\n",
    "grades_by_course20171 = grades20171.pivot_table(index = ['id_curso', 'num_matriculas'], values = 'media_final', aggfunc=np.mean)"
   ]
  },
  {
   "cell_type": "code",
   "execution_count": 73,
   "metadata": {},
   "outputs": [],
   "source": [
    "#Now that we have the mean of students final grades, we can finally use it to calcule the mean of grades by course\n",
    "grades_by_course20172 = grades20172.pivot_table(index = ['id_curso', 'num_matriculas'], values = 'media_final', aggfunc=np.mean)"
   ]
  },
  {
   "cell_type": "code",
   "execution_count": 74,
   "metadata": {},
   "outputs": [],
   "source": [
    "#Now we store the id of each course, for use it in the analysis\n",
    "ti_id = 92127264.0\n",
    "cb_id = 111635035.0\n",
    "cet_id = 10320810.0\n",
    "hist_id = 111635060.0"
   ]
  },
  {
   "cell_type": "code",
   "execution_count": 75,
   "metadata": {},
   "outputs": [],
   "source": [
    "#Now we have to store the grades for each course in 2016.1\n",
    "ti_grades_20161 = []\n",
    "cb_grades_20161 = []\n",
    "cet_grades_20161 = []\n",
    "hist_grades_20161 = []\n",
    "#Here we are storing the mean of the courses final grades by number of enrollments\n",
    "for x in range(1, 8):\n",
    "    ti_grades_20161.append(grades_by_course20161.media_final[ti_id][x])\n",
    "    cb_grades_20161.append(grades_by_course20161.media_final[cb_id][x])\n",
    "    cet_grades_20161.append(grades_by_course20161.media_final[cet_id][x])\n",
    "    hist_grades_20161.append(grades_by_course20161.media_final[hist_id][x])"
   ]
  },
  {
   "cell_type": "code",
   "execution_count": 76,
   "metadata": {},
   "outputs": [],
   "source": [
    "#Now we have to store the grades for each course in 2016.2\n",
    "ti_grades_20162 = []\n",
    "cb_grades_20162 = []\n",
    "cet_grades_20162 = []\n",
    "hist_grades_20162 = []\n",
    "#Here we are storing the mean of the courses final grades by number of enrollments\n",
    "for x in range(1, 8):\n",
    "    ti_grades_20162.append(grades_by_course20162.media_final[ti_id][x])\n",
    "    cb_grades_20162.append(grades_by_course20162.media_final[cb_id][x])\n",
    "    cet_grades_20162.append(grades_by_course20162.media_final[cet_id][x])\n",
    "    hist_grades_20162.append(grades_by_course20162.media_final[hist_id][x])"
   ]
  },
  {
   "cell_type": "code",
   "execution_count": 77,
   "metadata": {},
   "outputs": [],
   "source": [
    "#Now we have to store the grades for each course in 2017.1\n",
    "ti_grades_20171 = []\n",
    "cb_grades_20171 = []\n",
    "cet_grades_20171 = []\n",
    "hist_grades_20171 = []\n",
    "#Here we are storing the mean of the courses final grades by number of enrollments\n",
    "for x in range(1, 8):\n",
    "    ti_grades_20171.append(grades_by_course20171.media_final[ti_id][x])\n",
    "    cb_grades_20171.append(grades_by_course20171.media_final[cb_id][x])\n",
    "    cet_grades_20171.append(grades_by_course20171.media_final[cet_id][x])\n",
    "    hist_grades_20171.append(grades_by_course20171.media_final[hist_id][x])"
   ]
  },
  {
   "cell_type": "code",
   "execution_count": 78,
   "metadata": {},
   "outputs": [],
   "source": [
    "#Now we have to store the grades for each course in 2017.2\n",
    "ti_grades_20172 = []\n",
    "cb_grades_20172 = []\n",
    "cet_grades_20172 = []\n",
    "hist_grades_20172 = []\n",
    "#Here we are storing the mean of the courses final grades by number of enrollments\n",
    "for x in range(1, 8):\n",
    "    ti_grades_20172.append(grades_by_course20172.media_final[ti_id][x])\n",
    "    cb_grades_20172.append(grades_by_course20172.media_final[cb_id][x])\n",
    "    cet_grades_20172.append(grades_by_course20172.media_final[cet_id][x])\n",
    "    hist_grades_20172.append(grades_by_course20172.media_final[hist_id][x])"
   ]
  },
  {
   "cell_type": "code",
   "execution_count": 79,
   "metadata": {},
   "outputs": [
    {
     "data": {
      "image/png": "[encoded data removed]",
      "text/plain": [
       "<matplotlib.figure.Figure at 0x7f99219bac88>"
      ]
     },
     "metadata": {},
     "output_type": "display_data"
    }
   ],
   "source": [
    "plt.plot(range(1,8),ti_grades_20172)\n",
    "plt.plot(range(1,8),cb_grades_20172)\n",
    "plt.plot(range(1,8),cet_grades_20172)\n",
    "plt.plot(range(1,8),hist_grades_20172)\n",
    "plt.show()"
   ]
  },
  {
   "cell_type": "code",
   "execution_count": 80,
   "metadata": {},
   "outputs": [
    {
     "data": {
      "image/png": "[encoded data removed]",
      "text/plain": [
       "<matplotlib.figure.Figure at 0x7f99219106a0>"
      ]
     },
     "metadata": {},
     "output_type": "display_data"
    }
   ],
   "source": [
    "plt.plot(range(1,8),ti_grades_20161)\n",
    "plt.plot(range(1,8),cb_grades_20161)\n",
    "plt.plot(range(1,8),cet_grades_20161)\n",
    "plt.plot(range(1,8),hist_grades_20161)\n",
    "plt.show()"
   ]
  },
  {
   "cell_type": "code",
   "execution_count": 81,
   "metadata": {
    "scrolled": true
   },
   "outputs": [
    {
     "data": {
      "image/png": "[encoded data removed]",
      "text/plain": [
       "<matplotlib.figure.Figure at 0x7f99239872b0>"
      ]
     },
     "metadata": {},
     "output_type": "display_data"
    }
   ],
   "source": [
    "plt.plot(range(1,8),ti_grades_20162)\n",
    "plt.plot(range(1,8),cb_grades_20162)\n",
    "plt.plot(range(1,8),cet_grades_20162)\n",
    "plt.plot(range(1,8),hist_grades_20162)\n",
    "plt.show()"
   ]
  },
  {
   "cell_type": "code",
   "execution_count": 82,
   "metadata": {},
   "outputs": [
    {
     "data": {
      "image/png": "[encoded data removed]",
      "text/plain": [
       "<matplotlib.figure.Figure at 0x7f992393e438>"
      ]
     },
     "metadata": {},
     "output_type": "display_data"
    }
   ],
   "source": [
    "plt.plot(range(1,8),ti_grades_20171)\n",
    "plt.plot(range(1,8),cb_grades_20171)\n",
    "plt.plot(range(1,8),cet_grades_20171)\n",
    "plt.plot(range(1,8),hist_grades_20171)\n",
    "plt.show()"
   ]
  }
 ],
 "metadata": {
  "kernelspec": {
   "display_name": "Python 3",
   "language": "python",
   "name": "python3"
  },
  "language_info": {
   "codemirror_mode": {
    "name": "ipython",
    "version": 3
   },
   "file_extension": ".py",
   "mimetype": "text/x-python",
   "name": "python",
   "nbconvert_exporter": "python",
   "pygments_lexer": "ipython3",
   "version": "3.6.4"
  }
 },
 "nbformat": 4,
 "nbformat_minor": 2
}
